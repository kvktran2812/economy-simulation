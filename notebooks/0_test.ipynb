{
 "cells": [
  {
   "cell_type": "code",
   "execution_count": 1,
   "id": "5620c195-62ac-481a-b087-e8d5e79d4ede",
   "metadata": {},
   "outputs": [
    {
     "name": "stdout",
     "output_type": "stream",
     "text": [
      "Numba (CPU): 0.5326104164123535 seconds\n"
     ]
    }
   ],
   "source": [
    "import numpy as np\n",
    "from numba import jit\n",
    "import time\n",
    "\n",
    "@jit(nopython=True)  # Optimize for CPU\n",
    "def numba_vector_add(a, b):\n",
    "    return a + b\n",
    "\n",
    "# Generate data\n",
    "n = 10000000\n",
    "a = np.random.rand(n)\n",
    "b = np.random.rand(n)\n",
    "\n",
    "# Benchmark\n",
    "start = time.time()\n",
    "result = numba_vector_add(a, b)\n",
    "print(\"Numba (CPU):\", time.time() - start, \"seconds\")"
   ]
  },
  {
   "cell_type": "code",
   "execution_count": 2,
   "id": "0d2ac23c-862a-4c8f-a2c9-1dc6e3693294",
   "metadata": {},
   "outputs": [
    {
     "name": "stdout",
     "output_type": "stream",
     "text": [
      "Numba (GPU): 0.15823602676391602 seconds\n"
     ]
    }
   ],
   "source": [
    "from numba import cuda\n",
    "\n",
    "@cuda.jit\n",
    "def numba_gpu_add(a, b, out):\n",
    "    i = cuda.grid(1)\n",
    "    if i < len(a):\n",
    "        out[i] = a[i] + b[i]\n",
    "\n",
    "# Copy data to GPU\n",
    "a_gpu = cuda.to_device(a)\n",
    "b_gpu = cuda.to_device(b)\n",
    "out_gpu = cuda.device_array_like(a_gpu)\n",
    "\n",
    "# Benchmark\n",
    "start = time.time()\n",
    "numba_gpu_add[128, 64](a_gpu, b_gpu, out_gpu)  # Grid/block tuning\n",
    "result = out_gpu.copy_to_host()\n",
    "print(\"Numba (GPU):\", time.time() - start, \"seconds\")"
   ]
  },
  {
   "cell_type": "code",
   "execution_count": 3,
   "id": "791e8f12-4323-4843-8328-12d2f0c13e29",
   "metadata": {},
   "outputs": [
    {
     "name": "stdout",
     "output_type": "stream",
     "text": [
      "CuPy (GPU): 0.035204410552978516 seconds\n"
     ]
    }
   ],
   "source": [
    "import cupy as cp\n",
    "\n",
    "# Transfer data to GPU\n",
    "a_cp = cp.array(a)\n",
    "b_cp = cp.array(b)\n",
    "\n",
    "# Benchmark\n",
    "start = time.time()\n",
    "result = a_cp + b_cp  # CuPy automatically runs on GPU\n",
    "cp.cuda.Stream.null.synchronize()  # Ensure GPU finishes\n",
    "print(\"CuPy (GPU):\", time.time() - start, \"seconds\")"
   ]
  },
  {
   "cell_type": "code",
   "execution_count": 4,
   "id": "523f0bfd-b596-40ed-9f6b-99f3b14a9054",
   "metadata": {},
   "outputs": [
    {
     "name": "stdout",
     "output_type": "stream",
     "text": [
      "Numba (CPU) MatMul: 0.992711067199707\n"
     ]
    }
   ],
   "source": [
    "@jit(nopython=True)\n",
    "def numba_matmul(a, b):\n",
    "    return a @ b\n",
    "\n",
    "a = np.random.rand(1000, 1000)\n",
    "b = np.random.rand(1000, 1000)\n",
    "\n",
    "start = time.time()\n",
    "numba_matmul(a, b)\n",
    "print(\"Numba (CPU) MatMul:\", time.time() - start)"
   ]
  },
  {
   "cell_type": "code",
   "execution_count": 6,
   "id": "efc53bee-473c-4e1b-b42d-c9bc40080065",
   "metadata": {},
   "outputs": [
    {
     "name": "stdout",
     "output_type": "stream",
     "text": [
      "CuPy (GPU) MatMul: 0.12929010391235352\n"
     ]
    }
   ],
   "source": [
    "a_cp = cp.array(a)\n",
    "b_cp = cp.array(b)\n",
    "\n",
    "start = time.time()\n",
    "result = a_cp @ b_cp\n",
    "cp.cuda.Stream.null.synchronize()\n",
    "print(\"CuPy (GPU) MatMul:\", time.time() - start)"
   ]
  },
  {
   "cell_type": "code",
   "execution_count": null,
   "id": "f3e2ffe8-3fa3-4f48-b230-479f56544290",
   "metadata": {},
   "outputs": [],
   "source": []
  }
 ],
 "metadata": {
  "kernelspec": {
   "display_name": "Python 3 (ipykernel)",
   "language": "python",
   "name": "python3"
  },
  "language_info": {
   "codemirror_mode": {
    "name": "ipython",
    "version": 3
   },
   "file_extension": ".py",
   "mimetype": "text/x-python",
   "name": "python",
   "nbconvert_exporter": "python",
   "pygments_lexer": "ipython3",
   "version": "3.11.7"
  }
 },
 "nbformat": 4,
 "nbformat_minor": 5
}
